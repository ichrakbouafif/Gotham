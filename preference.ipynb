{
  "nbformat": 4,
  "nbformat_minor": 0,
  "metadata": {
    "colab": {
      "provenance": [],
      "authorship_tag": "ABX9TyODTNAl3EbFnAq2c7fHDvo0",
      "include_colab_link": true
    },
    "kernelspec": {
      "name": "python3",
      "display_name": "Python 3"
    },
    "language_info": {
      "name": "python"
    }
  },
  "cells": [
    {
      "cell_type": "markdown",
      "metadata": {
        "id": "view-in-github",
        "colab_type": "text"
      },
      "source": [
        "<a href=\"https://colab.research.google.com/github/ichrakbouafif/Gotham/blob/main/preference.ipynb\" target=\"_parent\"><img src=\"https://colab.research.google.com/assets/colab-badge.svg\" alt=\"Open In Colab\"/></a>"
      ]
    },
    {
      "cell_type": "code",
      "execution_count": 1,
      "metadata": {
        "id": "2YH8CeDKxM2b"
      },
      "outputs": [],
      "source": [
        "import pandas as pd\n",
        "from sklearn.feature_extraction.text import CountVectorizer\n",
        "from sklearn.metrics.pairwise import cosine_similarity"
      ]
    },
    {
      "cell_type": "code",
      "source": [
        "recette = pd.read_csv(\"/content/recipes.csv\")"
      ],
      "metadata": {
        "id": "Go4zut4txV8L"
      },
      "execution_count": 2,
      "outputs": []
    },
    {
      "cell_type": "code",
      "source": [
        "user_profile = {\n",
        "    'user_id': 101,\n",
        "    'preferences': {'vegan','vegetarian'},\n",
        "    'restrictions':'sans lactose'\n",
        "}\n"
      ],
      "metadata": {
        "id": "GALhW-VQxV-x"
      },
      "execution_count": 3,
      "outputs": []
    },
    {
      "cell_type": "code",
      "source": [
        "def get_recommendations( user_profile, top_n=10):\n",
        "\n",
        "    preferences_str = ' '.join(user_profile['preferences'])\n",
        "    restrictions_str = ' '.join(user_profile['restrictions'])\n",
        "    user_profile[\"pref_restrict\"] = preferences_str + ' ' + restrictions_str\n",
        "\n",
        "    recette['recipe_features'] = recette['nom'] + ' ' + recette['type'] + ' '\\\n",
        "                                 + recette['difficulte'] + ' ' + \\\n",
        "                                recette['ing'] + ' ' + recette['propriete']\n",
        "\n",
        "    vectorizer = CountVectorizer()\n",
        "    recipe_vectors = vectorizer.fit_transform(recette['recipe_features'])\n",
        "    user_vector = vectorizer.transform([user_profile['pref_restrict']])\n",
        "    cosine_sim = cosine_similarity(user_vector, recipe_vectors)\n",
        "    scores = []\n",
        "    for idx, sim in enumerate(cosine_sim[0]):\n",
        "        scores.append((idx,sim))\n",
        "    scores.sort(key=lambda x: x[1], reverse=True)\n",
        "    recommended_recipe_ids = [recette.iloc[i[0]]['nom'] for i in scores[:top_n]]\n",
        "    return recommended_recipe_ids"
      ],
      "metadata": {
        "id": "PUu_sx0ixWBG"
      },
      "execution_count": 4,
      "outputs": []
    },
    {
      "cell_type": "code",
      "source": [
        "recommended_recipes = get_recommendations(user_profile)\n",
        "print(\"Recommended Recipes:\\n\")\n",
        "for recipe in recommended_recipes:\n",
        "  print(recipe)"
      ],
      "metadata": {
        "colab": {
          "base_uri": "https://localhost:8080/"
        },
        "id": "CdcguTN7xWEe",
        "outputId": "ef39e30f-9e4a-474c-ecbd-df82c6811fe7"
      },
      "execution_count": 8,
      "outputs": [
        {
          "output_type": "stream",
          "name": "stdout",
          "text": [
            "Recommended Recipes:\n",
            "\n",
            "Glace à la banane vegan super facile à faire goût cookie! Cookie Dough vegan\n",
            "Cupcakes vegan de concombres et houmous\n",
            "Nice cream banana, la glace vegan avec des bananes! Sans sorbetière\n",
            "Milkshake Vegan à la banane\n",
            "Glace vegan aux fruits rouges: la nice cream banana super facile à faire!\n",
            "Fudge Vegan à la cacahuète\n",
            "Crèmes dessert vegan - Chocolat, banane, avocat\n",
            "Mousse au chocolat vegan sans oeufs et sans lait\n",
            "Panna Cotta vegan à la coco\n",
            "Faux-mage frais ail et fines herbes (le fromage vegan à base de soja !)\n"
          ]
        }
      ]
    }
  ]
}